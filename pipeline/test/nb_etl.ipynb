{
 "cells": [
  {
   "cell_type": "code",
   "execution_count": 1,
   "metadata": {},
   "outputs": [],
   "source": [
    "import os\n",
    "import re\n",
    "import pandas as pd"
   ]
  },
  {
   "cell_type": "code",
   "execution_count": 2,
   "metadata": {},
   "outputs": [],
   "source": [
    "def calculate_life_expectancy(age):\n",
    "    # Calculate life expectancy\n",
    "    if age < 0.08:\n",
    "        return 89.99\n",
    "    elif 0.08 <= age < 1:\n",
    "        return 89.55\n",
    "    elif 1 <= age < 5:\n",
    "        return 89.07\n",
    "    elif 5 <= age < 10:\n",
    "        return 82.58\n",
    "    elif 10 <= age < 15:\n",
    "        return 77.58\n",
    "    elif 15 <= age < 20:\n",
    "        return 72.60\n",
    "    elif 20 <= age < 25:\n",
    "        return 67.62\n",
    "    elif 25 <= age < 30:\n",
    "        return 62.66\n",
    "    elif 30 <= age < 35:\n",
    "        return 57.71\n",
    "    elif 35 <= age < 40:\n",
    "        return 52.76\n",
    "    elif 40 <= age < 45:\n",
    "        return 47.83\n",
    "    elif 45 <= age < 50:\n",
    "        return 42.94\n",
    "    elif 50 <= age < 55:\n",
    "        return 38.10\n",
    "    elif 55 <= age < 60:\n",
    "        return 33.33\n",
    "    elif 60 <= age < 65:\n",
    "        return 28.66\n",
    "    elif 65 <= age < 70:\n",
    "        return 24.12\n",
    "    elif 70 <= age < 75:\n",
    "        return 19.76\n",
    "    elif 75 <= age < 80:\n",
    "        return 15.65\n",
    "    elif 80 <= age < 85:\n",
    "        return 11.69\n",
    "    else:\n",
    "        return 7.05"
   ]
  },
  {
   "cell_type": "code",
   "execution_count": 3,
   "metadata": {},
   "outputs": [
    {
     "name": "stdout",
     "output_type": "stream",
     "text": [
      "--------------------------------------------------------------------------\n",
      "Carregando os dados dos arquivos extraídos, tratando e concatenando...\n"
     ]
    }
   ],
   "source": [
    "data_folder_raw = \"data/raw\"\n",
    "\n",
    "# Select the folder where the raw files are located\n",
    "current_directory = \"C:/projetos/machine_learning_time_series_yll/\"\n",
    "file_path = os.path.join(current_directory, data_folder_raw)\n",
    "# List of ICD-10 codes belonging to ICSAPS\n",
    "cod_icsaps = [\"A37\",\"A36\",\"A33\",\"A34\",\"A35\",\"B26\",\"B06\",\"B05\",\"A95\",\"B16\",\"G000\",\"A170\",\"A19\",\"A150\",\"A151\",\"A152\",\"A153\",\"A160\",\n",
    "                \"A161\",\"A162\",\"A154\",\"A155\",\"A156\",\"A157\",\"A158\",\"A159\",\"A163\",\"A164\",\"A165\",\"A166\",\"A167\",\"A168\",\"A169\",\"A171\",\"A172\",\n",
    "                \"A173\",\"A174\",\"A175\",\"A176\",\"A177\",\"A178\",\"A179\",\"A18\",\"I00\",\"I01\",\"I02\",\"A51\",\"A52\",\"A53\",\"B50\",\"B51\",\"B52\",\"B53\",\n",
    "                \"B54\",\"B77\",\"E86\",\"A00\",\"A01\",\"A02\",\"A03\",\"A04\",\"A05\",\"A06\",\"A07\",\"A08\",\"A09\",\"D50\",\"E40\",\"E41\",\"E42\",\"E43\",\"E44\",\"E45\",\n",
    "                \"E46\",\"E50\",\"E51\",\"E52\",\"E53\",\"E54\",\"E55\",\"E56\",\"E57\",\"E58\",\"E59\",\"E60\",\"E61\",\"E62\",\"E63\",\"E64\",\"H66\",\"J00\",\"J01\",\"J02\",\n",
    "                \"J03\",\"J06\",\"J31\",\"J13\",\"J14\",\"J153\",\"J154\",\"J158\",\"J159\",\"J181\",\"J45\",\"J46\",\"J20\",\"J21\",\"J40\",\"J41\",\"J42\",\"J43\",\"J47\",\n",
    "                \"J44\",\"I10\",\"I11\",\"I20\",\"I50\",\"J81\",\"I63\",\"I64\",\"I65\",\"I66\",\"I67\",\"I69\",\"G45\",\"G46\",\"E100\",\"E101\",\"E110\",\"E111\",\"E120\",\n",
    "                \"E121\",\"E130\",\"E131\",\"E140\",\"E141\",\"E102\",\"E103\",\"E104\",\"E105\",\"E106\",\"E107\",\"E108\",\"E112\",\"E113\",\"E114\",\"E115\",\"E116\",\n",
    "                \"E117\",\"E118\",\"E122\",\"E123\",\"E124\",\"E125\",\"E126\",\"E127\",\"E128\",\"E132\",\"E133\",\"E134\",\"E135\",\"E136\",\"E137\",\"E138\",\"E142\",\n",
    "                \"E143\",\"E144\",\"E145\",\"E146\",\"E147\",\"E148\",\"E109\",\"E119\",\"E129\",\"E139\",\"E149\",\"G40\",\"G41\",\"N10\",\"N11\",\"N12\",\"N30\",\"N34\",\n",
    "                \"N390\",\"A46\",\"L01\",\"L02\",\"L03\",\"L04\",\"L08\",\"N70\",\"N71\",\"N72\",\"N73\",\"N75\",\"N76\",\"K25\",\"K26\",\"K27\",\"K28\",\"K920\",\"K921\",\n",
    "                \"K922\",\"O23\",\"A50\",\"P350\"]\n",
    "# List with the dataframes already processed\n",
    "dfs = []\n",
    "\n",
    "print(\"--------------------------------------------------------------------------\")\n",
    "print(\"Carregando os dados dos arquivos extraídos, tratando e concatenando...\")\n",
    "# Generate the dataframe\n",
    "pattern = r'^Mortalidade_Geral_\\d{4}\\.csv$'\n",
    "for file in os.listdir(file_path):\n",
    "    if re.match(pattern, file):\n",
    "        # Read CSV file with Pandas\n",
    "        df = pd.read_csv(os.path.join(file_path, file), delimiter=';', encoding='ISO-8859-1', low_memory=False)\n",
    "        # Analyze whether the ICD-10 code belongs to ICSAPs\n",
    "        df['icsaps'] = df['CAUSABAS'].apply(lambda x: 'Sim' if x in cod_icsaps else 'Não')\n",
    "        # Keep only data that is ICSAPs\n",
    "        df = df[df['icsaps'] == 'Sim']\n",
    "        # Perform transformation of birth and death dates\n",
    "        df['dt_obito'] = pd.to_datetime(df['DTOBITO'], format='%d%m%Y', errors='coerce')\n",
    "        df['dt_nasc'] = pd.to_datetime(df['DTNASC'], format='%d%m%Y', errors='coerce')\n",
    "        # Delete null data for date of birth and date of death\n",
    "        df = df.dropna(subset=['dt_nasc'])\n",
    "        df = df.dropna(subset=['dt_obito'])\n",
    "        # Create the age column\n",
    "        df['idade'] = ((df['dt_obito'] - df['dt_nasc']).dt.days / 365.25).round(2)\n",
    "        # Keep only data with valid ages\n",
    "        df = df[df['idade'] >= 0]\n",
    "        # Create column yll\n",
    "        df['yll'] = df.apply(lambda row: calculate_life_expectancy(row['idade']), axis=1)\n",
    "        # Create the columns ano_obito and quad_obito\n",
    "        df['ano_obito'] = df['dt_obito'].dt.year.astype(float).astype(pd.Int64Dtype()).astype(str).where(df['dt_obito'].notna())\n",
    "        df['quad_obito'] = pd.cut(df['dt_obito'].dt.month, bins=[1, 5, 9, 13], labels=[1, 2, 3], right=False)\n",
    "        df['quad_obito'] = df['quad_obito'].astype('object')\n",
    "        # Extract the first 6 digits from the CODMUNRES column\n",
    "        df['cd_mun_res'] = df['CODMUNRES'].astype(str).str.slice(stop=6)\n",
    "        # Rename columns\n",
    "        df = df.rename(columns={'CAUSABAS':'cid10'})\n",
    "        # Select desired columns\n",
    "        df = df[['ano_obito','quad_obito','dt_obito','dt_nasc','idade','yll','cid10','cd_mun_res']]\n",
    "        # Add the dataframe to the list of dataframes\n",
    "        dfs.append(df)\n",
    "\n",
    "# Concatenate the dataframes into a single final dataframe\n",
    "df_group = pd.concat(dfs, ignore_index=True)"
   ]
  },
  {
   "cell_type": "code",
   "execution_count": 4,
   "metadata": {},
   "outputs": [
    {
     "data": {
      "text/html": [
       "<div>\n",
       "<style scoped>\n",
       "    .dataframe tbody tr th:only-of-type {\n",
       "        vertical-align: middle;\n",
       "    }\n",
       "\n",
       "    .dataframe tbody tr th {\n",
       "        vertical-align: top;\n",
       "    }\n",
       "\n",
       "    .dataframe thead th {\n",
       "        text-align: right;\n",
       "    }\n",
       "</style>\n",
       "<table border=\"1\" class=\"dataframe\">\n",
       "  <thead>\n",
       "    <tr style=\"text-align: right;\">\n",
       "      <th></th>\n",
       "      <th>ano_obito</th>\n",
       "      <th>quad_obito</th>\n",
       "      <th>dt_obito</th>\n",
       "      <th>dt_nasc</th>\n",
       "      <th>idade</th>\n",
       "      <th>yll</th>\n",
       "      <th>cid10</th>\n",
       "      <th>cd_mun_res</th>\n",
       "    </tr>\n",
       "  </thead>\n",
       "  <tbody>\n",
       "    <tr>\n",
       "      <th>0</th>\n",
       "      <td>2010</td>\n",
       "      <td>2</td>\n",
       "      <td>2010-05-30</td>\n",
       "      <td>1937-09-04</td>\n",
       "      <td>72.73</td>\n",
       "      <td>19.76</td>\n",
       "      <td>I64</td>\n",
       "      <td>120070</td>\n",
       "    </tr>\n",
       "    <tr>\n",
       "      <th>1</th>\n",
       "      <td>2010</td>\n",
       "      <td>2</td>\n",
       "      <td>2010-06-08</td>\n",
       "      <td>1916-12-04</td>\n",
       "      <td>93.51</td>\n",
       "      <td>7.05</td>\n",
       "      <td>I10</td>\n",
       "      <td>120040</td>\n",
       "    </tr>\n",
       "    <tr>\n",
       "      <th>2</th>\n",
       "      <td>2010</td>\n",
       "      <td>1</td>\n",
       "      <td>2010-02-20</td>\n",
       "      <td>1975-04-28</td>\n",
       "      <td>34.82</td>\n",
       "      <td>57.71</td>\n",
       "      <td>J81</td>\n",
       "      <td>120045</td>\n",
       "    </tr>\n",
       "    <tr>\n",
       "      <th>3</th>\n",
       "      <td>2010</td>\n",
       "      <td>1</td>\n",
       "      <td>2010-03-11</td>\n",
       "      <td>1915-10-12</td>\n",
       "      <td>94.41</td>\n",
       "      <td>7.05</td>\n",
       "      <td>E149</td>\n",
       "      <td>120040</td>\n",
       "    </tr>\n",
       "    <tr>\n",
       "      <th>4</th>\n",
       "      <td>2010</td>\n",
       "      <td>2</td>\n",
       "      <td>2010-05-14</td>\n",
       "      <td>1918-09-20</td>\n",
       "      <td>91.65</td>\n",
       "      <td>7.05</td>\n",
       "      <td>I10</td>\n",
       "      <td>120040</td>\n",
       "    </tr>\n",
       "  </tbody>\n",
       "</table>\n",
       "</div>"
      ],
      "text/plain": [
       "  ano_obito quad_obito   dt_obito    dt_nasc  idade    yll cid10 cd_mun_res\n",
       "0      2010          2 2010-05-30 1937-09-04  72.73  19.76   I64     120070\n",
       "1      2010          2 2010-06-08 1916-12-04  93.51   7.05   I10     120040\n",
       "2      2010          1 2010-02-20 1975-04-28  34.82  57.71   J81     120045\n",
       "3      2010          1 2010-03-11 1915-10-12  94.41   7.05  E149     120040\n",
       "4      2010          2 2010-05-14 1918-09-20  91.65   7.05   I10     120040"
      ]
     },
     "execution_count": 4,
     "metadata": {},
     "output_type": "execute_result"
    }
   ],
   "source": [
    "df_group.head()"
   ]
  },
  {
   "cell_type": "code",
   "execution_count": 5,
   "metadata": {},
   "outputs": [
    {
     "data": {
      "text/plain": [
       "ano_obito             object\n",
       "quad_obito            object\n",
       "dt_obito      datetime64[ns]\n",
       "dt_nasc       datetime64[ns]\n",
       "idade                float64\n",
       "yll                  float64\n",
       "cid10                 object\n",
       "cd_mun_res            object\n",
       "dtype: object"
      ]
     },
     "execution_count": 5,
     "metadata": {},
     "output_type": "execute_result"
    }
   ],
   "source": [
    "df_group.dtypes"
   ]
  },
  {
   "cell_type": "code",
   "execution_count": 20,
   "metadata": {},
   "outputs": [],
   "source": [
    "def porte(populacao):\n",
    "    # Definir o porte pelo tamanho da população\n",
    "    if populacao <= 20000:\n",
    "        return 'Pequeno Porte I'\n",
    "    elif populacao >= 20001 and populacao <= 50000:\n",
    "        return 'Pequeno Porte II'\n",
    "    elif populacao >= 50001 and populacao <= 100000:\n",
    "        return 'Médio Porte'\n",
    "    elif populacao >= 100001 and populacao <= 900000:\n",
    "        return 'Grande Porte'\n",
    "    elif populacao >= 900001:\n",
    "        return 'Metrópole'"
   ]
  },
  {
   "cell_type": "code",
   "execution_count": 23,
   "metadata": {},
   "outputs": [],
   "source": [
    "data_folder_raw = \"data/raw\"\n",
    "current_directory = \"C:/projetos/machine_learning_time_series_yll/\"\n",
    "file_path = os.path.join(current_directory, data_folder_raw)\n",
    "\n",
    "pattern = r'.*ibge_cnv.*'\n",
    "for file in os.listdir(file_path):\n",
    "    if re.match(pattern, file):\n",
    "        # Create population dataframe\n",
    "        df = pd.read_csv(os.path.join(file_path, file), skiprows=3, sep=';', encoding='ISO-8859-1', low_memory=False)\n",
    "        index_total = df[df['Município'] == 'Total'].index[0]\n",
    "        df = df.loc[:index_total-1]\n",
    "        # Creating the cod_municipio column with the first 6 characters of the Municipio column\n",
    "        df['cd_municipio'] = df['Município'].str[:6]\n",
    "        # Transforming column years into rows with corresponding population values\n",
    "        df = pd.melt(df, id_vars=['cd_municipio'], value_vars=[str(year) for year in range(2010, 2020)],var_name='ano', value_name='populacao')\n",
    "        # Convert 'populacao' column to integer\n",
    "        df['populacao'] = pd.to_numeric(df['populacao'], errors='coerce').fillna(0).astype(int)\n",
    "        # Applying the 'porte' function\n",
    "        df['porte'] = df['populacao'].apply(porte)"
   ]
  },
  {
   "cell_type": "code",
   "execution_count": 24,
   "metadata": {},
   "outputs": [
    {
     "data": {
      "text/html": [
       "<div>\n",
       "<style scoped>\n",
       "    .dataframe tbody tr th:only-of-type {\n",
       "        vertical-align: middle;\n",
       "    }\n",
       "\n",
       "    .dataframe tbody tr th {\n",
       "        vertical-align: top;\n",
       "    }\n",
       "\n",
       "    .dataframe thead th {\n",
       "        text-align: right;\n",
       "    }\n",
       "</style>\n",
       "<table border=\"1\" class=\"dataframe\">\n",
       "  <thead>\n",
       "    <tr style=\"text-align: right;\">\n",
       "      <th></th>\n",
       "      <th>cd_municipio</th>\n",
       "      <th>ano</th>\n",
       "      <th>populacao</th>\n",
       "      <th>porte</th>\n",
       "    </tr>\n",
       "  </thead>\n",
       "  <tbody>\n",
       "    <tr>\n",
       "      <th>0</th>\n",
       "      <td>110001</td>\n",
       "      <td>2010</td>\n",
       "      <td>24422</td>\n",
       "      <td>Pequeno Porte II</td>\n",
       "    </tr>\n",
       "    <tr>\n",
       "      <th>1</th>\n",
       "      <td>110002</td>\n",
       "      <td>2010</td>\n",
       "      <td>90354</td>\n",
       "      <td>Médio Porte</td>\n",
       "    </tr>\n",
       "    <tr>\n",
       "      <th>2</th>\n",
       "      <td>110003</td>\n",
       "      <td>2010</td>\n",
       "      <td>6309</td>\n",
       "      <td>Pequeno Porte I</td>\n",
       "    </tr>\n",
       "    <tr>\n",
       "      <th>3</th>\n",
       "      <td>110004</td>\n",
       "      <td>2010</td>\n",
       "      <td>78601</td>\n",
       "      <td>Médio Porte</td>\n",
       "    </tr>\n",
       "    <tr>\n",
       "      <th>4</th>\n",
       "      <td>110005</td>\n",
       "      <td>2010</td>\n",
       "      <td>17030</td>\n",
       "      <td>Pequeno Porte I</td>\n",
       "    </tr>\n",
       "  </tbody>\n",
       "</table>\n",
       "</div>"
      ],
      "text/plain": [
       "  cd_municipio   ano  populacao             porte\n",
       "0       110001  2010      24422  Pequeno Porte II\n",
       "1       110002  2010      90354       Médio Porte\n",
       "2       110003  2010       6309   Pequeno Porte I\n",
       "3       110004  2010      78601       Médio Porte\n",
       "4       110005  2010      17030   Pequeno Porte I"
      ]
     },
     "execution_count": 24,
     "metadata": {},
     "output_type": "execute_result"
    }
   ],
   "source": [
    "df.head()"
   ]
  },
  {
   "cell_type": "code",
   "execution_count": 8,
   "metadata": {},
   "outputs": [
    {
     "ename": "FileNotFoundError",
     "evalue": "[WinError 3] O sistema não pode encontrar o caminho especificado: 'c:\\\\projetos\\\\machine_learning_time_series_yll\\\\tests\\\\data\\\\raw'",
     "output_type": "error",
     "traceback": [
      "\u001b[1;31m---------------------------------------------------------------------------\u001b[0m",
      "\u001b[1;31mFileNotFoundError\u001b[0m                         Traceback (most recent call last)",
      "Cell \u001b[1;32mIn[8], line 10\u001b[0m\n\u001b[0;32m      7\u001b[0m file_path \u001b[38;5;241m=\u001b[39m os\u001b[38;5;241m.\u001b[39mpath\u001b[38;5;241m.\u001b[39mjoin(os\u001b[38;5;241m.\u001b[39mgetcwd(), data_folder_raw)\n\u001b[0;32m      9\u001b[0m pattern \u001b[38;5;241m=\u001b[39m \u001b[38;5;124m\"\u001b[39m\u001b[38;5;124mmunicipios.csv\u001b[39m\u001b[38;5;124m\"\u001b[39m\n\u001b[1;32m---> 10\u001b[0m \u001b[38;5;28;01mfor\u001b[39;00m file \u001b[38;5;129;01min\u001b[39;00m \u001b[43mos\u001b[49m\u001b[38;5;241;43m.\u001b[39;49m\u001b[43mlistdir\u001b[49m\u001b[43m(\u001b[49m\u001b[43mfile_path\u001b[49m\u001b[43m)\u001b[49m:\n\u001b[0;32m     11\u001b[0m     \u001b[38;5;28;01mif\u001b[39;00m re\u001b[38;5;241m.\u001b[39mmatch(pattern, file):\n\u001b[0;32m     12\u001b[0m         \u001b[38;5;66;03m# Create population dataframe\u001b[39;00m\n\u001b[0;32m     13\u001b[0m         df \u001b[38;5;241m=\u001b[39m pd\u001b[38;5;241m.\u001b[39mread_csv(os\u001b[38;5;241m.\u001b[39mpath\u001b[38;5;241m.\u001b[39mjoin(file_path, file), sep\u001b[38;5;241m=\u001b[39m\u001b[38;5;124m'\u001b[39m\u001b[38;5;124m;\u001b[39m\u001b[38;5;124m'\u001b[39m, encoding\u001b[38;5;241m=\u001b[39m\u001b[38;5;124m'\u001b[39m\u001b[38;5;124mISO-8859-1\u001b[39m\u001b[38;5;124m'\u001b[39m, low_memory\u001b[38;5;241m=\u001b[39m\u001b[38;5;28;01mFalse\u001b[39;00m)\n",
      "\u001b[1;31mFileNotFoundError\u001b[0m: [WinError 3] O sistema não pode encontrar o caminho especificado: 'c:\\\\projetos\\\\machine_learning_time_series_yll\\\\tests\\\\data\\\\raw'"
     ]
    }
   ],
   "source": [
    "import os\n",
    "import re\n",
    "import pandas as pd\n",
    "\n",
    "data_folder_raw = \"data\\\\raw\"\n",
    "# current_directory = \"C:/projetos/machine_learning_time_series_yll/\"\n",
    "file_path = os.path.join(os.getcwd(), data_folder_raw)\n",
    "\n",
    "pattern = \"municipios.csv\"\n",
    "for file in os.listdir(file_path):\n",
    "    if re.match(pattern, file):\n",
    "        # Create population dataframe\n",
    "        df = pd.read_csv(os.path.join(file_path, file), sep=';', encoding='ISO-8859-1', low_memory=False)\n",
    "        # Rename columns\n",
    "        df = df.rename(columns={\n",
    "            'CÓDIGO DO MUNICÍPIO - IBGE':'cd_municipio',\n",
    "            'MUNICÍPIO - IBGE':'nm_municipio',\n",
    "            'UF':'sl_uf'\n",
    "            })\n",
    "        # Convert to string if necessary\n",
    "        df['cd_municipio'] = df['cd_municipio'].astype(str)\n",
    "        df['cd_municipio'] = df['cd_municipio'].str[:6]\n",
    "        df['cd_uf'] = df['cd_municipio'].str[:2]\n",
    "        # Select desired columns\n",
    "        df = df[['cd_uf','sl_uf','cd_municipio','nm_municipio']]\n",
    "\n",
    "df.head()"
   ]
  },
  {
   "cell_type": "code",
   "execution_count": 5,
   "metadata": {},
   "outputs": [
    {
     "data": {
      "text/plain": [
       "'c:\\\\projetos\\\\machine_learning_time_series_yll\\\\tests'"
      ]
     },
     "execution_count": 5,
     "metadata": {},
     "output_type": "execute_result"
    }
   ],
   "source": [
    "os.getcwd()"
   ]
  },
  {
   "cell_type": "code",
   "execution_count": 15,
   "metadata": {},
   "outputs": [
    {
     "data": {
      "text/plain": [
       "cd_municipio     int64\n",
       "nm_municipio    object\n",
       "sl_uf           object\n",
       "dtype: object"
      ]
     },
     "execution_count": 15,
     "metadata": {},
     "output_type": "execute_result"
    }
   ],
   "source": [
    "df.dtypes"
   ]
  },
  {
   "cell_type": "code",
   "execution_count": null,
   "metadata": {},
   "outputs": [],
   "source": [
    "# exibe o dataframe final\n",
    "df_group.head()"
   ]
  },
  {
   "cell_type": "code",
   "execution_count": null,
   "metadata": {},
   "outputs": [],
   "source": [
    "df_group.dtypes"
   ]
  },
  {
   "cell_type": "code",
   "execution_count": null,
   "metadata": {},
   "outputs": [],
   "source": [
    "df_group.columns"
   ]
  },
  {
   "cell_type": "code",
   "execution_count": null,
   "metadata": {},
   "outputs": [],
   "source": [
    "df_group.info()"
   ]
  },
  {
   "cell_type": "code",
   "execution_count": null,
   "metadata": {},
   "outputs": [],
   "source": [
    "df_group.shape"
   ]
  },
  {
   "cell_type": "code",
   "execution_count": null,
   "metadata": {},
   "outputs": [],
   "source": [
    "df_group.isna().sum()"
   ]
  },
  {
   "cell_type": "code",
   "execution_count": null,
   "metadata": {},
   "outputs": [],
   "source": []
  },
  {
   "cell_type": "code",
   "execution_count": null,
   "metadata": {},
   "outputs": [],
   "source": []
  },
  {
   "cell_type": "code",
   "execution_count": null,
   "metadata": {},
   "outputs": [],
   "source": []
  }
 ],
 "metadata": {
  "kernelspec": {
   "display_name": "Python 3",
   "language": "python",
   "name": "python3"
  },
  "language_info": {
   "codemirror_mode": {
    "name": "ipython",
    "version": 3
   },
   "file_extension": ".py",
   "mimetype": "text/x-python",
   "name": "python",
   "nbconvert_exporter": "python",
   "pygments_lexer": "ipython3",
   "version": "3.12.4"
  },
  "orig_nbformat": 4
 },
 "nbformat": 4,
 "nbformat_minor": 2
}
