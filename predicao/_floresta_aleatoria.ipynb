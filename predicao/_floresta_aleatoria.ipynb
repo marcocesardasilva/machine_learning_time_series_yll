{
 "cells": [
  {
   "cell_type": "markdown",
   "metadata": {},
   "source": [
    "### Importar bibliotecas"
   ]
  },
  {
   "cell_type": "code",
   "execution_count": 12,
   "metadata": {},
   "outputs": [],
   "source": [
    "# Conexão com BigQuery\n",
    "from google.cloud import bigquery\n",
    "from google.oauth2 import service_account\n",
    "# Manipulação de dados\n",
    "import pandas as pd\n",
    "import numpy as np\n",
    "import warnings"
   ]
  },
  {
   "cell_type": "markdown",
   "metadata": {},
   "source": [
    "### Criar conexão com os dados no GCP"
   ]
  },
  {
   "cell_type": "code",
   "execution_count": 13,
   "metadata": {},
   "outputs": [],
   "source": [
    "# Realizar conexão com o GCP\n",
    "credentials = service_account.Credentials.from_service_account_file(\"../keys/ml-na-saude-ed1fc3c1a83e.json\")\n",
    "client = bigquery.Client(credentials=credentials, project=credentials.project_id)"
   ]
  },
  {
   "cell_type": "markdown",
   "metadata": {},
   "source": [
    "### Criar dataframe com os dados já tratados e selecionados"
   ]
  },
  {
   "cell_type": "code",
   "execution_count": 14,
   "metadata": {},
   "outputs": [],
   "source": [
    "# Os dados de mortalidade já foram tratados na ETL para calcular o YLL por cada óbito\n",
    "# Aqui esta importação já está trazendo a taxa média do YLL dos municípios de médio porte por quedrimestre\n",
    "consulta_sql = \"\"\"\n",
    "select\n",
    "  a.quadrimestre,\n",
    "  avg(a.taxa_yll) as taxa_media_yll\n",
    "from (\n",
    "with yll_quadrimestral as (\n",
    "\tselect\n",
    "\t\tcase\n",
    "\t\t\twhen extract(month from y.dt_obito) between 1 and 4 then date(extract(year from y.dt_obito), 4, 30)\n",
    "\t\t\twhen extract(month from y.dt_obito) between 5 and 8 then date(extract(year from y.dt_obito), 8, 31)\n",
    "\t\t\twhen extract(month from y.dt_obito) between 9 and 12 then date(extract(year from y.dt_obito), 12, 31)\n",
    "\t\t\tend as quadrimestre,\n",
    "\t\tm.nm_municipio,\n",
    "\t\tp.populacao,\n",
    "\t\tsum(y.yll) as soma_yll\n",
    "\tfrom `ml-na-saude.yll_por_obito.yll` y\n",
    "\tjoin `ml-na-saude.yll_por_obito.populacao` p on y.cd_mun_res = p.cd_municipio and y.ano_obito = p.ano\n",
    "\tjoin `ml-na-saude.yll_por_obito.municipio` m on p.cd_municipio = m.cd_municipio\n",
    "\twhere p.porte = 'Médio Porte'\n",
    "    group by 1,2,3\n",
    ")\n",
    "select\n",
    "\tquadrimestre,\n",
    "\tnm_municipio,\n",
    "  soma_yll,\n",
    "  populacao,\n",
    "  soma_yll / populacao * 1000 as taxa_yll\n",
    "from yll_quadrimestral\n",
    "group by 1,2,3,4\n",
    ") a\n",
    "group by 1\n",
    "order by 1\n",
    "\"\"\""
   ]
  },
  {
   "cell_type": "code",
   "execution_count": 15,
   "metadata": {},
   "outputs": [],
   "source": [
    "# Ignorar avisos e gerar dataframe\n",
    "warnings.simplefilter(\"ignore\")\n",
    "df = client.query(consulta_sql).to_dataframe()"
   ]
  },
  {
   "cell_type": "code",
   "execution_count": 16,
   "metadata": {},
   "outputs": [
    {
     "data": {
      "text/html": [
       "<div>\n",
       "<style scoped>\n",
       "    .dataframe tbody tr th:only-of-type {\n",
       "        vertical-align: middle;\n",
       "    }\n",
       "\n",
       "    .dataframe tbody tr th {\n",
       "        vertical-align: top;\n",
       "    }\n",
       "\n",
       "    .dataframe thead th {\n",
       "        text-align: right;\n",
       "    }\n",
       "</style>\n",
       "<table border=\"1\" class=\"dataframe\">\n",
       "  <thead>\n",
       "    <tr style=\"text-align: right;\">\n",
       "      <th></th>\n",
       "      <th>quadrimestre</th>\n",
       "      <th>taxa_media_yll</th>\n",
       "    </tr>\n",
       "  </thead>\n",
       "  <tbody>\n",
       "    <tr>\n",
       "      <th>0</th>\n",
       "      <td>2010-04-30</td>\n",
       "      <td>6.427726</td>\n",
       "    </tr>\n",
       "    <tr>\n",
       "      <th>1</th>\n",
       "      <td>2010-08-31</td>\n",
       "      <td>6.767661</td>\n",
       "    </tr>\n",
       "    <tr>\n",
       "      <th>2</th>\n",
       "      <td>2010-12-31</td>\n",
       "      <td>6.111099</td>\n",
       "    </tr>\n",
       "    <tr>\n",
       "      <th>3</th>\n",
       "      <td>2011-04-30</td>\n",
       "      <td>6.550037</td>\n",
       "    </tr>\n",
       "    <tr>\n",
       "      <th>4</th>\n",
       "      <td>2011-08-31</td>\n",
       "      <td>6.878076</td>\n",
       "    </tr>\n",
       "  </tbody>\n",
       "</table>\n",
       "</div>"
      ],
      "text/plain": [
       "  quadrimestre  taxa_media_yll\n",
       "0   2010-04-30        6.427726\n",
       "1   2010-08-31        6.767661\n",
       "2   2010-12-31        6.111099\n",
       "3   2011-04-30        6.550037\n",
       "4   2011-08-31        6.878076"
      ]
     },
     "execution_count": 16,
     "metadata": {},
     "output_type": "execute_result"
    }
   ],
   "source": [
    "df.head()"
   ]
  },
  {
   "cell_type": "code",
   "execution_count": 17,
   "metadata": {},
   "outputs": [
    {
     "data": {
      "text/plain": [
       "quadrimestre       dbdate\n",
       "taxa_media_yll    float64\n",
       "dtype: object"
      ]
     },
     "execution_count": 17,
     "metadata": {},
     "output_type": "execute_result"
    }
   ],
   "source": [
    "df.dtypes"
   ]
  },
  {
   "cell_type": "markdown",
   "metadata": {},
   "source": [
    "### Cópia do DataFrame para manipulação e criação dos modelos"
   ]
  },
  {
   "cell_type": "code",
   "execution_count": 31,
   "metadata": {},
   "outputs": [],
   "source": [
    "# Copiar dataframe para manipular dados\n",
    "time_series = df.copy()"
   ]
  },
  {
   "cell_type": "code",
   "execution_count": 32,
   "metadata": {},
   "outputs": [],
   "source": [
    "# Transformando o quadrimestre em data\n",
    "time_series['quadrimestre'] = pd.to_datetime(time_series['quadrimestre'])"
   ]
  },
  {
   "cell_type": "code",
   "execution_count": 33,
   "metadata": {},
   "outputs": [
    {
     "data": {
      "text/plain": [
       "quadrimestre      datetime64[ns]\n",
       "taxa_media_yll           float64\n",
       "dtype: object"
      ]
     },
     "execution_count": 33,
     "metadata": {},
     "output_type": "execute_result"
    }
   ],
   "source": [
    "time_series.dtypes"
   ]
  },
  {
   "cell_type": "code",
   "execution_count": 34,
   "metadata": {},
   "outputs": [
    {
     "data": {
      "text/html": [
       "<div>\n",
       "<style scoped>\n",
       "    .dataframe tbody tr th:only-of-type {\n",
       "        vertical-align: middle;\n",
       "    }\n",
       "\n",
       "    .dataframe tbody tr th {\n",
       "        vertical-align: top;\n",
       "    }\n",
       "\n",
       "    .dataframe thead th {\n",
       "        text-align: right;\n",
       "    }\n",
       "</style>\n",
       "<table border=\"1\" class=\"dataframe\">\n",
       "  <thead>\n",
       "    <tr style=\"text-align: right;\">\n",
       "      <th></th>\n",
       "      <th>quadrimestre</th>\n",
       "      <th>taxa_media_yll</th>\n",
       "    </tr>\n",
       "  </thead>\n",
       "  <tbody>\n",
       "    <tr>\n",
       "      <th>0</th>\n",
       "      <td>2010-04-30</td>\n",
       "      <td>6.427726</td>\n",
       "    </tr>\n",
       "    <tr>\n",
       "      <th>1</th>\n",
       "      <td>2010-08-31</td>\n",
       "      <td>6.767661</td>\n",
       "    </tr>\n",
       "    <tr>\n",
       "      <th>2</th>\n",
       "      <td>2010-12-31</td>\n",
       "      <td>6.111099</td>\n",
       "    </tr>\n",
       "    <tr>\n",
       "      <th>3</th>\n",
       "      <td>2011-04-30</td>\n",
       "      <td>6.550037</td>\n",
       "    </tr>\n",
       "    <tr>\n",
       "      <th>4</th>\n",
       "      <td>2011-08-31</td>\n",
       "      <td>6.878076</td>\n",
       "    </tr>\n",
       "    <tr>\n",
       "      <th>5</th>\n",
       "      <td>2011-12-31</td>\n",
       "      <td>5.804813</td>\n",
       "    </tr>\n",
       "    <tr>\n",
       "      <th>6</th>\n",
       "      <td>2012-04-30</td>\n",
       "      <td>6.280719</td>\n",
       "    </tr>\n",
       "    <tr>\n",
       "      <th>7</th>\n",
       "      <td>2012-08-31</td>\n",
       "      <td>6.739170</td>\n",
       "    </tr>\n",
       "    <tr>\n",
       "      <th>8</th>\n",
       "      <td>2012-12-31</td>\n",
       "      <td>6.049970</td>\n",
       "    </tr>\n",
       "    <tr>\n",
       "      <th>9</th>\n",
       "      <td>2013-04-30</td>\n",
       "      <td>6.253954</td>\n",
       "    </tr>\n",
       "    <tr>\n",
       "      <th>10</th>\n",
       "      <td>2013-08-31</td>\n",
       "      <td>6.681950</td>\n",
       "    </tr>\n",
       "    <tr>\n",
       "      <th>11</th>\n",
       "      <td>2013-12-31</td>\n",
       "      <td>5.571991</td>\n",
       "    </tr>\n",
       "    <tr>\n",
       "      <th>12</th>\n",
       "      <td>2014-04-30</td>\n",
       "      <td>6.104961</td>\n",
       "    </tr>\n",
       "    <tr>\n",
       "      <th>13</th>\n",
       "      <td>2014-08-31</td>\n",
       "      <td>6.453612</td>\n",
       "    </tr>\n",
       "    <tr>\n",
       "      <th>14</th>\n",
       "      <td>2014-12-31</td>\n",
       "      <td>5.694766</td>\n",
       "    </tr>\n",
       "    <tr>\n",
       "      <th>15</th>\n",
       "      <td>2015-04-30</td>\n",
       "      <td>6.311521</td>\n",
       "    </tr>\n",
       "    <tr>\n",
       "      <th>16</th>\n",
       "      <td>2015-08-31</td>\n",
       "      <td>6.724201</td>\n",
       "    </tr>\n",
       "    <tr>\n",
       "      <th>17</th>\n",
       "      <td>2015-12-31</td>\n",
       "      <td>5.766527</td>\n",
       "    </tr>\n",
       "    <tr>\n",
       "      <th>18</th>\n",
       "      <td>2016-04-30</td>\n",
       "      <td>7.119191</td>\n",
       "    </tr>\n",
       "    <tr>\n",
       "      <th>19</th>\n",
       "      <td>2016-08-31</td>\n",
       "      <td>6.753624</td>\n",
       "    </tr>\n",
       "    <tr>\n",
       "      <th>20</th>\n",
       "      <td>2016-12-31</td>\n",
       "      <td>5.678917</td>\n",
       "    </tr>\n",
       "    <tr>\n",
       "      <th>21</th>\n",
       "      <td>2017-04-30</td>\n",
       "      <td>6.236757</td>\n",
       "    </tr>\n",
       "    <tr>\n",
       "      <th>22</th>\n",
       "      <td>2017-08-31</td>\n",
       "      <td>6.973282</td>\n",
       "    </tr>\n",
       "    <tr>\n",
       "      <th>23</th>\n",
       "      <td>2017-12-31</td>\n",
       "      <td>5.723243</td>\n",
       "    </tr>\n",
       "    <tr>\n",
       "      <th>24</th>\n",
       "      <td>2018-04-30</td>\n",
       "      <td>6.227634</td>\n",
       "    </tr>\n",
       "    <tr>\n",
       "      <th>25</th>\n",
       "      <td>2018-08-31</td>\n",
       "      <td>6.807558</td>\n",
       "    </tr>\n",
       "    <tr>\n",
       "      <th>26</th>\n",
       "      <td>2018-12-31</td>\n",
       "      <td>5.721408</td>\n",
       "    </tr>\n",
       "    <tr>\n",
       "      <th>27</th>\n",
       "      <td>2019-04-30</td>\n",
       "      <td>6.268480</td>\n",
       "    </tr>\n",
       "    <tr>\n",
       "      <th>28</th>\n",
       "      <td>2019-08-31</td>\n",
       "      <td>7.221472</td>\n",
       "    </tr>\n",
       "    <tr>\n",
       "      <th>29</th>\n",
       "      <td>2019-12-31</td>\n",
       "      <td>5.920040</td>\n",
       "    </tr>\n",
       "  </tbody>\n",
       "</table>\n",
       "</div>"
      ],
      "text/plain": [
       "   quadrimestre  taxa_media_yll\n",
       "0    2010-04-30        6.427726\n",
       "1    2010-08-31        6.767661\n",
       "2    2010-12-31        6.111099\n",
       "3    2011-04-30        6.550037\n",
       "4    2011-08-31        6.878076\n",
       "5    2011-12-31        5.804813\n",
       "6    2012-04-30        6.280719\n",
       "7    2012-08-31        6.739170\n",
       "8    2012-12-31        6.049970\n",
       "9    2013-04-30        6.253954\n",
       "10   2013-08-31        6.681950\n",
       "11   2013-12-31        5.571991\n",
       "12   2014-04-30        6.104961\n",
       "13   2014-08-31        6.453612\n",
       "14   2014-12-31        5.694766\n",
       "15   2015-04-30        6.311521\n",
       "16   2015-08-31        6.724201\n",
       "17   2015-12-31        5.766527\n",
       "18   2016-04-30        7.119191\n",
       "19   2016-08-31        6.753624\n",
       "20   2016-12-31        5.678917\n",
       "21   2017-04-30        6.236757\n",
       "22   2017-08-31        6.973282\n",
       "23   2017-12-31        5.723243\n",
       "24   2018-04-30        6.227634\n",
       "25   2018-08-31        6.807558\n",
       "26   2018-12-31        5.721408\n",
       "27   2019-04-30        6.268480\n",
       "28   2019-08-31        7.221472\n",
       "29   2019-12-31        5.920040"
      ]
     },
     "execution_count": 34,
     "metadata": {},
     "output_type": "execute_result"
    }
   ],
   "source": [
    "time_series"
   ]
  },
  {
   "cell_type": "markdown",
   "metadata": {},
   "source": [
    "### Modelo"
   ]
  },
  {
   "cell_type": "code",
   "execution_count": null,
   "metadata": {},
   "outputs": [],
   "source": []
  },
  {
   "cell_type": "code",
   "execution_count": null,
   "metadata": {},
   "outputs": [],
   "source": []
  }
 ],
 "metadata": {
  "kernelspec": {
   "display_name": "venv",
   "language": "python",
   "name": "python3"
  },
  "language_info": {
   "codemirror_mode": {
    "name": "ipython",
    "version": 3
   },
   "file_extension": ".py",
   "mimetype": "text/x-python",
   "name": "python",
   "nbconvert_exporter": "python",
   "pygments_lexer": "ipython3",
   "version": "3.12.4"
  }
 },
 "nbformat": 4,
 "nbformat_minor": 2
}
